{
 "cells": [
  {
   "cell_type": "markdown",
   "metadata": {
    "extensions": {
     "jupyter_dashboards": {
      "version": 1,
      "views": {
       "grid_default": {
        "col": 0,
        "height": 4,
        "hidden": true,
        "row": 72,
        "width": 4
       },
       "report_default": {}
      }
     }
    }
   },
   "source": [
    "# Table of Contents\n"
   ]
  },
  {
   "cell_type": "code",
   "execution_count": null,
   "metadata": {
    "extensions": {
     "jupyter_dashboards": {
      "version": 1,
      "views": {
       "grid_default": {
        "hidden": true
       },
       "report_default": {
        "hidden": true
       }
      }
     }
    }
   },
   "outputs": [],
   "source": [
    "%matplotlib notebook\n",
    "from mpl_toolkits.mplot3d import Axes3D\n",
    "import matplotlib.pyplot as plt\n",
    "#plt.style.use('ggplot')\n",
    "import ipywidgets as widgets\n",
    "import sys, os, io, string, shutil, math\n",
    "from hublib.ui import Submit\n",
    "from hublib.ui import RunCommand\n",
    "import hublib.use\n",
    "#%use boost-1.62.0-mpich2-1.3-gnu-4.7.2\n",
    "#%use lammps-31Mar17\n",
    "import numpy as np\n",
    "import re\n",
    "import time\n",
    "from threading import Thread\n",
    "from io import StringIO\n",
    "from ipywidgets import Layout, Box, Label, Output\n",
    "from IPython.display import display,HTML\n",
    "sys.path.append('../python/')\n",
    "#import train as nn\n",
    "from dump import dump\n",
    "from xyz import xyz\n",
    "from svg import svg\n",
    "import random\n",
    "#from IPython.core.display import display, HTML\n",
    "display(HTML(\"<style>.container { width:1450px !important; }</style>\"))\n",
    "\n",
    "style = {'description_width': 'initial'}\n",
    "\n",
    "left_column='340px'\n",
    "right_column='940px'\n",
    "app_width='1280px'\n",
    "image_width=540\n",
    "\n",
    "form_item_layout = Layout(\n",
    "    display='flex',\n",
    "    flex_flow='row',\n",
    "    justify_content='space-between',\n",
    "    padding='5px'\n",
    ")\n",
    "\n",
    "form_item_layout_slider_text = Layout(\n",
    "    display='flex',\n",
    "    flex_flow='row',\n",
    "    justify_content='space-between',\n",
    "    padding='5px'\n",
    ")\n",
    "\n",
    "box_layout_image=Layout(\n",
    "    display='flex',\n",
    "    flex_flow='column',\n",
    "    border='solid 1px',\n",
    "    align_items='stretch',\n",
    "    #width='25%',\n",
    "    padding='5px',\n",
    "    #min_height='20px',\n",
    "    #min_width='200px'\n",
    "    width=left_column,\n",
    "    height='304.5px'\n",
    ")\n",
    "box_layout_phisical=Layout(\n",
    "    display='flex',\n",
    "    flex_flow='column',\n",
    "    border='solid 1px',\n",
    "    align_items='stretch',\n",
    "    #width='25%',\n",
    "    padding='5px',\n",
    "    #min_height='20px',\n",
    "    #min_width='200px'\n",
    "    width=left_column,\n",
    "    #height='180px'\n",
    ")\n",
    "box_layout_computing=Layout(\n",
    "    display='flex',\n",
    "    flex_flow='column',\n",
    "    border='solid 1px',\n",
    "    align_items='stretch',\n",
    "    padding='5px',\n",
    "    width=left_column,\n",
    "    #height='103px'\n",
    ")\n",
    "box_layout_progress=Layout(\n",
    "    display='flex',\n",
    "    flex_flow='column',\n",
    "    border='solid 1px',\n",
    "    align_items='stretch',\n",
    "    padding='5px',\n",
    "    width=left_column,\n",
    "    ##height='55px'\n",
    ")\n",
    "\n",
    "box_layout_output=Layout(\n",
    "    display='flex',\n",
    "    flex_flow='column',\n",
    "    border='solid 1px',\n",
    "    align_items='stretch',\n",
    "    padding='5px',\n",
    "    width=left_column,\n",
    "    #height='150px'\n",
    ")\n",
    "box_layout_about=Layout(\n",
    "    display='flex',\n",
    "    flex_flow='column',\n",
    "    border='solid 1px',\n",
    "    align_items='stretch',\n",
    "    padding='5px',\n",
    "    width=right_column,\n",
    "    #height='136px'\n",
    ")\n",
    "form_item_layout_tab = Layout(\n",
    "    display='flex',\n",
    "    flex_flow='column',\n",
    "    align_items='stretch',\n",
    "    justify_content='space-between',\n",
    "    padding='5px'\n",
    ")\n",
    "\n",
    "box_layout_tabs=Layout(\n",
    "    display='flex',\n",
    "    flex_flow='column',\n",
    "    border='solid 1px',\n",
    "    align_items='stretch',\n",
    "    padding='5px',\n",
    "    width=right_column,\n",
    "    height='100%'\n",
    ")\n",
    "\n",
    "button_hide_layout=Layout(\n",
    "    visibility='hidden', #visible/hidden\n",
    "    padding='5px',\n",
    "    \n",
    ")\n",
    "\n",
    "button_show_layout=Layout(\n",
    "    visibility='visible', #visible/hidden\n",
    "    padding='5px',\n",
    "    \n",
    ")"
   ]
  },
  {
   "cell_type": "code",
   "execution_count": null,
   "metadata": {},
   "outputs": [],
   "source": [
    "'''\n",
    "CSS = \"\"\"\n",
    ".output {\n",
    "    align-items: center;\n",
    "}\n",
    "div.output_area {\n",
    "    width: 100%;\n",
    "}\n",
    "div.output_area {\n",
    "    left-padding: 60px;\n",
    "}\n",
    "\"\"\"\n",
    "display(HTML('<style>{}</style>'.format(CSS)))\n",
    "\n",
    "'''\n",
    "\n",
    "js_custom=\"\"\"<script>\n",
    "$('#appmode-leave').hide();                          // Hides the edit app button.\n",
    "$('#appmode-busy').hide();                           // Hides the kernel busy indicator.\n",
    "</script>\n",
    "\"\"\"\n",
    "\n",
    "display(HTML(js_custom))"
   ]
  },
  {
   "cell_type": "code",
   "execution_count": null,
   "metadata": {},
   "outputs": [],
   "source": [
    "%%capture\n",
    "# This hides any output from this cell\n",
    "%set_env OMP_NUM_THREADS=4"
   ]
  },
  {
   "cell_type": "code",
   "execution_count": null,
   "metadata": {
    "extensions": {
     "jupyter_dashboards": {
      "version": 1,
      "views": {
       "grid_default": {
        "col": 0,
        "height": 4,
        "hidden": true,
        "row": 66,
        "width": 4
       },
       "report_default": {}
      }
     }
    }
   },
   "outputs": [],
   "source": [
    "%%html\n",
    "<style>\n",
    ".jupyter-widgets.widget-tab > .p-TabBar .p-TabBar-tab {\n",
    "    flex: 0 1 175px\n",
    "}\n",
    "</style>"
   ]
  },
  {
   "cell_type": "code",
   "execution_count": null,
   "metadata": {
    "extensions": {
     "jupyter_dashboards": {
      "version": 1,
      "views": {
       "grid_default": {
        "col": 0,
        "height": 2,
        "hidden": true,
        "row": 29,
        "width": 4
       },
       "report_default": {
        "hidden": false
       }
      }
     }
    }
   },
   "outputs": [],
   "source": [
    "charge = widgets.BoundedIntText(\n",
    "    value=600,\n",
    "    min=300,\n",
    "    max=600,\n",
    "    step=10,\n",
    "    description='Maximum Surface Charge (e)',\n",
    "    style=style,\n",
    ")\n"
   ]
  },
  {
   "cell_type": "code",
   "execution_count": null,
   "metadata": {},
   "outputs": [],
   "source": [
    "patchSize = widgets.BoundedFloatText(\n",
    "    value=0.75,\n",
    "    min=0.1,\n",
    "    max=1.0,\n",
    "    step=0.05,\n",
    "    description='Patch size (p)',\n",
    "    style=style\n",
    ")"
   ]
  },
  {
   "cell_type": "code",
   "execution_count": null,
   "metadata": {
    "extensions": {
     "jupyter_dashboards": {
      "version": 1,
      "views": {
       "grid_default": {
        "col": 0,
        "height": 2,
        "hidden": true,
        "row": 29,
        "width": 4
       },
       "report_default": {
        "hidden": true
       }
      }
     }
    }
   },
   "outputs": [],
   "source": [
    "bendingModulus = widgets.BoundedIntText(\n",
    "    value=5,\n",
    "    min=3,\n",
    "    max=50,\n",
    "    step=1,\n",
    "    description=\"Bending Modulus (kB T)\",\n",
    "    style=style\n",
    ")"
   ]
  },
  {
   "cell_type": "code",
   "execution_count": null,
   "metadata": {
    "extensions": {
     "jupyter_dashboards": {
      "version": 1,
      "views": {
       "grid_default": {
        "hidden": true
       },
       "report_default": {}
      }
     }
    }
   },
   "outputs": [],
   "source": [
    "stretchingModulus = widgets.BoundedIntText(\n",
    "    value=125,\n",
    "    min=50,\n",
    "    max=150,\n",
    "    step=5,\n",
    "    description=\"Stretching Modulus (kB T)\",\n",
    "    style=style\n",
    ")\n"
   ]
  },
  {
   "cell_type": "code",
   "execution_count": null,
   "metadata": {
    "extensions": {
     "jupyter_dashboards": {
      "version": 1,
      "views": {
       "grid_default": {
        "col": 0,
        "height": 2,
        "hidden": true,
        "row": 29,
        "width": 4
       },
       "report_default": {
        "hidden": true
       }
      }
     }
    }
   },
   "outputs": [],
   "source": [
    "salt = widgets.BoundedFloatText(\n",
    "    value=0.005,\n",
    "    min=0.005,\n",
    "    max=0.1,\n",
    "    step=0.005,\n",
    "    description='Salt Concentration (M):',\n",
    "    style=style\n",
    ")"
   ]
  },
  {
   "cell_type": "code",
   "execution_count": null,
   "metadata": {
    "extensions": {
     "jupyter_dashboards": {
      "version": 1,
      "views": {
       "grid_default": {
        "hidden": true
       },
       "report_default": {}
      }
     }
    }
   },
   "outputs": [],
   "source": [
    "steps = widgets.BoundedIntText(\n",
    "    value=50000,\n",
    "    min=50000,\n",
    "    max=300000,\n",
    "    step=10000,\n",
    "    description='Simulation steps:',\n",
    "    style=style\n",
    ")"
   ]
  },
  {
   "cell_type": "code",
   "execution_count": null,
   "metadata": {
    "extensions": {
     "jupyter_dashboards": {
      "version": 1,
      "views": {
       "grid_default": {
        "hidden": true
       },
       "report_default": {}
      }
     }
    }
   },
   "outputs": [],
   "source": [
    "imageSlider = widgets.IntSlider(\n",
    "    value=0,\n",
    "    min=0,\n",
    "    max=0,\n",
    "    step=1000,\n",
    "    description='Images',\n",
    "    style=style\n",
    ")        \n",
    "\n",
    "def onSliderChange(b):\n",
    "    try:\n",
    "        index_str = str(imageSlider.value)\n",
    "        combined_file='snapshot_png/shape_'+index_str+'.png'\n",
    "                \n",
    "        #end = time.time()\n",
    "        #time_taken = end - start\n",
    "        #localOutput.value = localOutput.value +\"loop pre: \" + str(time_taken)+\"\\n\"\n",
    "                \n",
    "        if os.path.isfile(combined_file):\n",
    "            file = open(combined_file, \"rb\")\n",
    "            image_png = file.read()\n",
    "            output_image.value= image_png\n",
    "        else:\n",
    "            imageSlider.value=imageSlider.value-imageSlider.step\n",
    "            \n",
    "    except:\n",
    "        sys.stderr.write('Image file is not there yet.')\n",
    "    \n",
    "imageSlider.observe(onSliderChange, names='value')\n"
   ]
  },
  {
   "cell_type": "code",
   "execution_count": null,
   "metadata": {
    "extensions": {
     "jupyter_dashboards": {
      "version": 1,
      "views": {
       "grid_default": {
        "hidden": true
       },
       "report_default": {}
      }
     }
    }
   },
   "outputs": [],
   "source": [
    "submit_str = ''\n",
    "def onToggleBtnChange(b):\n",
    "    global submit_str\n",
    "    if clustorMode.value:\n",
    "        clustorMode.icon = 'check' \n",
    "        clustorMode.button_style='success'\n",
    "        if not submit_str:\n",
    "            output_image_warning_text.layout.visibility = 'visible'\n",
    "    else:\n",
    "        clustorMode.icon = '' \n",
    "        clustorMode.button_style=''\n",
    "        if not submit_str:\n",
    "            output_image_warning_text.layout.visibility = 'hidden'\n",
    "\n",
    "'''\n",
    "clustorMode =widgets.ToggleButton(\n",
    "    value=False,\n",
    "    description='Cluster mode',\n",
    "    disabled=False,\n",
    "    button_style='', # 'success', 'info', 'warning', 'danger' or ''\n",
    "    tooltip='Simulation will run on a computing cluster when this button is turned on but you will loose the access to dynamic simulation snapshot slider.',\n",
    "    icon='',\n",
    "    style=style\n",
    ")\n",
    "'''\n",
    "\n",
    "clustorMode =widgets.Checkbox(\n",
    "    value=False,\n",
    "    description='Cluster mode',\n",
    "    disabled=False,\n",
    "    #button_style='', # 'success', 'info', 'warning', 'danger' or ''\n",
    "    tooltip='Simulation will run on a computing cluster when this button is turned on but you will loose the access to dynamic simulation snapshot slider.',\n",
    "    icon='',\n",
    "    style=style\n",
    ")\n",
    "\n",
    "\n",
    "clustorMode.observe(onToggleBtnChange,'value')"
   ]
  },
  {
   "cell_type": "code",
   "execution_count": null,
   "metadata": {
    "extensions": {
     "jupyter_dashboards": {
      "version": 1,
      "views": {
       "grid_default": {
        "hidden": true
       },
       "report_default": {}
      }
     }
    }
   },
   "outputs": [],
   "source": [
    "play_trigger = False\n",
    "\n",
    "def play_btn_thread():\n",
    "    global play_trigger\n",
    "    imageSlider.value = 0\n",
    "    while play_trigger:\n",
    "            imageSlider.value = (imageSlider.value + imageSlider.step) % (imageSlider.max + imageSlider.step)\n",
    "            time.sleep(1)\n",
    "    \n",
    "def onPlayBtnChange(b):\n",
    "    global play_trigger\n",
    "    global submit_str\n",
    "    if playMode.value:\n",
    "        playMode.button_style = 'success'\n",
    "        play_trigger = True\n",
    "        t = Thread(target=play_btn_thread)\n",
    "        t.start()\n",
    "        \n",
    "    else:\n",
    "        imageSlider.value=0\n",
    "        playMode.button_style = ''\n",
    "        play_trigger = False\n",
    "            \n",
    "\n",
    "playMode =widgets.ToggleButton(\n",
    "    value=False,\n",
    "    description='Play snapshots',\n",
    "    disabled=False,\n",
    "    button_style='', # 'success', 'info', 'warning', 'danger' or ''\n",
    "    tooltip='Simulation snapshots will be played as a gif when this button is turned on',\n",
    "    icon='',\n",
    "    style=style\n",
    ")\n",
    "\n",
    "playMode.observe(onPlayBtnChange,'value')\n"
   ]
  },
  {
   "cell_type": "code",
   "execution_count": null,
   "metadata": {
    "extensions": {
     "jupyter_dashboards": {
      "version": 1,
      "views": {
       "grid_default": {
        "hidden": true
       },
       "report_default": {
        "hidden": true
       }
      }
     }
    }
   },
   "outputs": [],
   "source": [
    "label_style = \"style='background-color: #9ae09a; font-size:500; padding: 2px'\"\n",
    "label_style2 = \"style='font-size:350; padding: 2px; font-weight: bold; align: center'\"\n",
    "def make_label(name, label_style, desc=\"\",):\n",
    "    lval = '<p %s %s>%s</p>' % (desc, label_style, name)\n",
    "    return widgets.HTML(lval)\n",
    "\n",
    "plabel = make_label('Input Parameters', label_style, '')\n",
    "clabel = make_label('Computing Parameters',label_style, '')\n",
    "olabel = make_label('Output Controllers', label_style, '')\n",
    "imageSliderabout = make_label('Slide to navigate the simulation snapshots', label_style2, '')"
   ]
  },
  {
   "cell_type": "code",
   "execution_count": null,
   "metadata": {
    "extensions": {
     "jupyter_dashboards": {
      "version": 1,
      "views": {
       "grid_default": {
        "col": 0,
        "height": 6,
        "hidden": true,
        "row": 43,
        "width": 12
       },
       "report_default": {
        "hidden": false
       }
      }
     }
    }
   },
   "outputs": [],
   "source": [
    "'''\n",
    "image_html = widgets.HTML(\n",
    "    value='<img src=\"../images/overview.jpg\" style=\"width: 500px\"/>',\n",
    ")\n",
    "'''\n",
    "file = open(\"../images/overview.png\", \"rb\")\n",
    "image = file.read()\n",
    "image=widgets.Image(\n",
    "    value=image,\n",
    "    format='jpg',\n",
    "    width=297,\n",
    "    height=297,\n",
    ")\n",
    "\n",
    "form_items = [\n",
    "    Box([image], layout=form_item_layout)\n",
    "]\n",
    "\n",
    "mainImage = Box(form_items, layout=box_layout_image)"
   ]
  },
  {
   "cell_type": "code",
   "execution_count": null,
   "metadata": {
    "extensions": {
     "jupyter_dashboards": {
      "version": 1,
      "views": {
       "grid_default": {
        "col": 0,
        "height": 11,
        "hidden": true,
        "row": 59,
        "width": 4
       },
       "report_default": {}
      }
     }
    }
   },
   "outputs": [],
   "source": [
    "form_items = [\n",
    "    Box([plabel], layout=form_item_layout),\n",
    "    Box([charge], layout=form_item_layout),\n",
    "    Box([patchSize], layout=form_item_layout),\n",
    "    Box([bendingModulus], layout=form_item_layout),\n",
    "    Box([stretchingModulus], layout=form_item_layout),\n",
    "    Box([salt], layout=form_item_layout)\n",
    "]\n",
    "\n",
    "form_items_computing = [\n",
    "    Box([clabel], layout=form_item_layout),\n",
    "    Box([clustorMode], layout=form_item_layout),\n",
    "    Box([steps], layout=form_item_layout)\n",
    "]\n",
    "\n",
    "form_items_output = [\n",
    "    Box([olabel], layout=form_item_layout),\n",
    "    Box([imageSlider], layout=form_item_layout),\n",
    "    Box([imageSliderabout], layout=form_item_layout)\n",
    "]\n",
    "\n",
    "physical_para = Box(form_items, layout=box_layout_phisical)\n",
    "computing_para = Box(form_items_computing, layout=box_layout_computing)\n",
    "output_para = Box(form_items_output, layout=box_layout_output)"
   ]
  },
  {
   "cell_type": "code",
   "execution_count": null,
   "metadata": {
    "extensions": {
     "jupyter_dashboards": {
      "version": 1,
      "views": {
       "grid_default": {
        "col": 4,
        "height": 6,
        "hidden": true,
        "row": 43,
        "width": 8
       },
       "report_default": {
        "hidden": false
       }
      }
     }
    }
   },
   "outputs": [],
   "source": [
    "about=widgets.Textarea(\n",
    "    value='The shape of nanoparticles determines their ability to interact with biological systems in nanomedicine applications. This app simulates the shape deformation of deformable patchy nanoparticles for a broad variety of nanoparticle material properties and solution conditions. Molecular dynamics based simulated annealing is used to minimize the energy of the nanoparticle for a given set of material and solution parameters. Users can input control parameters such as the maximum surface charge, surface patch size, stretching modulus, and bending modulus, as well as control the solution ionic strength (salt concentration) changing the electrostatic drive to deform. Changing patch size parameter tunes the surface charge from a small value close to 0 to the maximum surface charge selected by the user. Suggested values of patch size are 0.25, 0.5, 0.75, 0.9 to observe a wide range of shape transitions. After running the simulation, in various output tabs, users can view the snapshots of the nanoparticle shape at various stages of the energy minimization process. Plots of the minimization of the electrostatic energy and increase in the area of the nanoparticle are also available (both these quantities are normalized by the associated values of the initial spherical conformation). Volume of the nanoparticle is conserved, representative of a finite amount of cargo.  The range of charge, elasticities, and salt concentrations enable users to observe deformation into various equilibrium shapes including bowls, hemispheres, discs, and rods, and egg-like conformations.  The app is ran using hybrid MPI/OpenMP parallelized C++ codes and Python post-processing and app deployment. After the simulation, the following data files can be downloaded: final image of the shape of the container (PNG), movie of the entire deformation process (LAMMPS output format for viewing in Ovito or VMD), raw area data (in units of the radius of the sphere), and raw energy data including electrostatic energy variation with time (in kB T).',\n",
    "    placeholder='',\n",
    "    layout={'height': '237px','width': '100%'},\n",
    "    disabled=True,\n",
    "    style = {'font_weight': '150px'}\n",
    ")\n",
    "\n",
    "form_about = [\n",
    "    Box([about], layout=form_item_layout)\n",
    "]\n",
    "\n",
    "about_text = Box(form_about, layout=box_layout_about)\n"
   ]
  },
  {
   "cell_type": "code",
   "execution_count": null,
   "metadata": {
    "extensions": {
     "jupyter_dashboards": {
      "version": 1,
      "views": {
       "grid_default": {
        "hidden": true
       },
       "report_default": {}
      }
     }
    }
   },
   "outputs": [],
   "source": [
    "def clear_All():\n",
    "    global play_trigger\n",
    "    global how_many_snapshots, previous_steps\n",
    "    localOutput.value = ''\n",
    "    submit_str= ''\n",
    "    progressBar.value=0\n",
    "    imageSlider.max=0\n",
    "    imageSlider.value=0 \n",
    "    #output_image.value=imageEmptyBox\n",
    "    #output_image.clear_output()\n",
    "    movie_download.layout = area_download.layout = energy_file_1.layout = final_shape_download.layout = button_hide_layout\n",
    "    clustorMode.disabled = False\n",
    "    \n",
    "    playMode.value = False\n",
    "    how_many_snapshots=0\n",
    "    play_trigger = False\n",
    "    previous_steps = 0\n",
    "    playMode.layout.visibility = 'hidden'\n",
    "    \n",
    "    if clustorMode.value:\n",
    "        output_image_warning_text.layout.visibility = 'visible'\n",
    "    else:\n",
    "        output_image_warning_text.layout.visibility = 'hidden'\n",
    "        \n",
    "    plt.figure('Area of the nanocontainer')\n",
    "    plt.clf()  # clear old plot\n",
    "    plt.figure('Electrostatic energy of the nanocontainer')\n",
    "    plt.clf()  # clear old plot"
   ]
  },
  {
   "cell_type": "code",
   "execution_count": null,
   "metadata": {
    "extensions": {
     "jupyter_dashboards": {
      "version": 1,
      "views": {
       "grid_default": {
        "hidden": true
       },
       "report_default": {}
      }
     }
    }
   },
   "outputs": [],
   "source": [
    "def runPreprocessor(npCharge_value, nLigand_value, salt_value):\n",
    "    '''\n",
    "    preprocessingCMD = \"./preprocessor -Q \"+str(npCharge_value)+\" -n \"+str(nLigand_value)+\" -c \"+str(salt_value) + \" > preprocessor.log\"\n",
    "    \n",
    "    try:\n",
    "        !$preprocessingCMD\n",
    "        \n",
    "    except  Exception as e:\n",
    "        localOutput.value = localOutput.value + \"Error occured during the execution of preprocessing executable\\n\"\n",
    "        sys.stderr.write('Error occured during the execution of preprocessing executable')\n",
    "        sys.stderr.write(str(e))\n",
    "        sys.exit(1)\n",
    "    ''' \n",
    "    pass\n"
   ]
  },
  {
   "cell_type": "code",
   "execution_count": null,
   "metadata": {
    "extensions": {
     "jupyter_dashboards": {
      "version": 1,
      "views": {
       "grid_default": {
        "hidden": true
       },
       "report_default": {
        "hidden": true
       }
      }
     }
    }
   },
   "outputs": [],
   "source": [
    "runFlag=False\n",
    "working_dir=\"\"\n",
    "parameter_append=\"\"\n",
    "sim_bigin=False\n",
    "build_Plots=True\n",
    "simulation_params=\"\"\n",
    "\n",
    "def callExe(s):\n",
    "    global runFlag, working_dir, parameter_append, sim_bigin, ionsplot, build_Plots, simulation_params, nLigand_value, runName, simulationStepsToatal\n",
    "    global submit_str\n",
    "    if build_Plots:\n",
    "        showPlotUI()\n",
    "        build_Plots = False\n",
    "    clear_All()\n",
    "    \n",
    "    #clustorMode.disabled = True\n",
    "    \n",
    "    localOutput.value = localOutput.value + \"Simulation begins...\\n\"\n",
    "     \n",
    "    number_of_patches = 2\n",
    "    charge_value = charge.value\n",
    "    patchSize_value = patchSize.value\n",
    "    bendingModulus_value = bendingModulus.value\n",
    "    stretchingModulus_value = stretchingModulus.value\n",
    "    salt_value = salt.value\n",
    "    simulationStepsToatal = steps.value\n",
    "    aneal_freq = int(simulationStepsToatal*0.1)\n",
    "    \n",
    "    #If this is 1.0 no patchy particle\n",
    "    if patchSize_value==1.0:\n",
    "        number_of_patches = 1\n",
    "\n",
    "    total_processors = 96\n",
    "    omp_size = 24\n",
    "    mpi_processes = total_processors//omp_size\n",
    "    \n",
    "    '''\n",
    "    following are for 96 processors (4*24) in brown cluster\n",
    "    20min: 67,500 steps\n",
    "    for 150,000 steps := 45 mins\n",
    "    10,000 := 3mins\n",
    "    '''\n",
    "    walltime = 10 + int(simulationStepsToatal/10000*3)\n",
    "    \n",
    "    runName='npshape'\n",
    "    \n",
    "    #Adding standard outputs to string to be sent to output widget callback function\n",
    "    parameter_append= \"Maximum Surface Charge(Q in e) is \"+ str(charge_value)+\"\\n\"\n",
    "    parameter_append= parameter_append + \"Number of patches used: \"+ str(number_of_patches)+\"\\n\"\n",
    "    parameter_append= parameter_append + \"Patch size (p) is \"+ str(patchSize_value)+\"\\n\"\n",
    "    parameter_append= parameter_append + \"Surface Charge(Q in e) is \"+ str(charge_value*patchSize_value)+\"\\n\"\n",
    "    parameter_append= parameter_append + \"Bending Modulus is \"+ str(bendingModulus_value)+\"\\n\"\n",
    "    parameter_append= parameter_append + \"Stretching Modulus is \"+ str(stretchingModulus_value)+\"\\n\"\n",
    "    parameter_append= parameter_append + \"Salt Concentration (M) is \"+ str(salt_value)+\"\\n\"\n",
    "    \n",
    "    if clustorMode.value:\n",
    "        parameter_append= parameter_append + \"requested walltime is \"+ str(walltime)+\" (mins)\\n\"\n",
    "        parameter_append= parameter_append + \"requested total processors are \"+ str(total_processors)+\"\\n\"\n",
    "    \n",
    "    simulation_params=\"_%d\" % int(charge_value)+\"_%.2f\" % float(patchSize_value)+\"_%d\" % int(bendingModulus_value)+\"_%d\" % int(stretchingModulus_value)+\"_%.2f\" % float(salt_value)\n",
    "\n",
    "    shutil.rmtree('outfiles',True)\n",
    "    if not os.path.exists('outfiles'):\n",
    "        os.makedirs('outfiles')\n",
    "        \n",
    "    shutil.rmtree('simulation_snapshots',True)\n",
    "    if not os.path.exists('simulation_snapshots'):\n",
    "        os.makedirs('simulation_snapshots')\n",
    "        \n",
    "                \n",
    "    shutil.rmtree('snapshot_png',True)\n",
    "    if not os.path.exists('snapshot_png'):\n",
    "        os.makedirs('snapshot_png')    \n",
    "     \n",
    "    #ocalOutput.value = localOutput.value + \"Preprocessing is running...\\n\"\n",
    "    \n",
    "    #preprocessing stage\n",
    "    #unPreprocessor(npCharge_value, nLigand_value, salt_value)\n",
    "    \n",
    "    #ocalOutput.value = localOutput.value + \"Preprocessing completed\\n\"\n",
    "        \n",
    "    localOutput.value = localOutput.value +  parameter_append;\n",
    "    \n",
    "    #submit_para_list = '--venue ' + str(cluster_name) + ' -w '+ str(walltime)+' -n '+str(total_processors) \\\n",
    "    # ' -N ' + '16 ' + ' --tailStdout 1000 ' + '--inputfile ' + 'data ' + 'nanoconfinement-r32 '\n",
    "     \n",
    "    prog_paraList = ' -R 10 -D 4 –t 1.0 -G V -d 0.0001 -T 0.0005 –f '+ str(aneal_freq)+' -q '+str(charge_value) \\\n",
    "    +' -N '+str(number_of_patches)+' -p '+str(patchSize_value) \\\n",
    "    +' -b '+str(bendingModulus_value)+' -s '+str(stretchingModulus_value)+' -c '+ str(salt_value) \\\n",
    "    + ' -S ' +str(simulationStepsToatal)\n",
    "\n",
    "    runFlag=True\n",
    "    sim_bigin=True\n",
    "    \n",
    "    computing_clusters = ['standby@brown','standby@rice']\n",
    "    \n",
    "    cluster_name = computing_clusters[random.randint(0,1)]\n",
    "    \n",
    "    #starting a thread for on the fly density plot\n",
    "    #t2 = Thread(target=iterative_density_plot)\n",
    "    #t2.start()\n",
    "    \n",
    "    try:\n",
    "        #rname = s.make_rname(e_np_value, e_out_value, pion_value, c_out_value, np_radius_value, np_charge_value, sim_steps_value)\n",
    "        #+' -e OMP_NUM_THREADS=' + str(omp_size)\n",
    "        submit_str = ''\n",
    "        if clustorMode.value:\n",
    "            submit_str = '--venue standby@brown -n '+str(total_processors)+' -N ' +str(omp_size)+' -w '+str(walltime) \\\n",
    "            +' --tailStdout 1000 ' +'--inputfile '+'infiles '+'--inputfile '+'outfiles '+'npshapelab-r208'\n",
    "            \n",
    "            localOutput.value = localOutput.value + \"Simulation is submitted to the cluster, waiting for response...\\n\"\n",
    "        else:\n",
    "            submit_str = '--local stdbuf -o0 -e0 ./np_shape_lab'\n",
    "            \n",
    "            localOutput.value = localOutput.value + \"Simulation is running...\\n\"\n",
    "\n",
    "        submit_str = submit_str + prog_paraList\n",
    "        \n",
    "        s.run(runName, submit_str)\n",
    "        \n",
    "        time.sleep(1)\n",
    "        \n",
    "    except  Exception as e:\n",
    "        sys.stderr.write('Error occured during the execution of np-shape program')\n",
    "        sys.stderr.write(str(e))\n",
    "        sys.exit(1)\n",
    "    \n",
    "    runFlag = False\n",
    "    #t2.join()"
   ]
  },
  {
   "cell_type": "code",
   "execution_count": null,
   "metadata": {
    "extensions": {
     "jupyter_dashboards": {
      "version": 1,
      "views": {
       "grid_default": {
        "hidden": true
       },
       "report_default": {}
      }
     }
    }
   },
   "outputs": [],
   "source": [
    "def convert_SVG_PNG(svg_file_path, png_file_path):\n",
    "    if os.path.isfile(svg_file_path):\n",
    "        image_size = image_width//2\n",
    "\n",
    "        command_ = \"inkscape -z -e \"+str(png_file_path)+\" -w \"+str(image_size)+\" -h \"+str(image_size)+ \" \"+str(svg_file_path) + \" > snapshot_png/svg_png.log\"\n",
    "\n",
    "        try:\n",
    "            !$command_\n",
    "\n",
    "        except  Exception as e:\n",
    "            localOutput.value = localOutput.value + \"Error occured while converting SVG to PNG\\n\"\n",
    "            sys.stderr.write('Error occured while converting SVG to PNG')\n",
    "            sys.stderr.write(str(e))\n",
    "            #sys.exit(1)"
   ]
  },
  {
   "cell_type": "code",
   "execution_count": null,
   "metadata": {
    "extensions": {
     "jupyter_dashboards": {
      "version": 1,
      "views": {
       "grid_default": {
        "hidden": true
       },
       "report_default": {}
      }
     }
    }
   },
   "outputs": [],
   "source": [
    "def combine_4_PNGs(png1, png2, png3, png4, combined_file):\n",
    "    '''\n",
    "    png1='snapshot_png/shape_top_0.png'\n",
    "    png2='snapshot_png/shape_front_0.png'\n",
    "    png3='snapshot_png/shape_left_0.png'\n",
    "    png4='snapshot_png/shape_perspective_0.png'\n",
    "    combined_file='snapshot_png/shape_0.png'\n",
    "    combine_4_PNGs(png1, png2, png3, png4, combined_file)\n",
    "    '''\n",
    "    if os.path.isfile(png1) and os.path.isfile(png2) and os.path.isfile(png3) and os.path.isfile(png4):\n",
    "        image_size = image_width\n",
    "\n",
    "        command_ = \"montage \"\\\n",
    "        +\" -label TOP \"+png1 \\\n",
    "        +\" -label FRONT \"+ png2 \\\n",
    "        +\" -label LEFT \" +png3 \\\n",
    "        +\" -label PERSPECTIVE \"+ png4 \\\n",
    "        +\" -frame 4 -shadow -geometry \"+str(image_size)+\"x\"+str(image_size)+\"+2+2 -pointsize 30 \" \\\n",
    "        + combined_file+\" > snapshot_png/svg_png.log\"\n",
    "        \n",
    "        # Resize command\n",
    "        command_resize = \"convert \"\\\n",
    "        +combined_file + \" -resize \" +str(image_size)+\"x\"+str(image_size) \\\n",
    "        +\" \"+combined_file \n",
    "\n",
    "        try:\n",
    "            !$command_\n",
    "            !$command_resize\n",
    "\n",
    "        except  Exception as e:\n",
    "            localOutput.value = localOutput.value + \"Error occured while creating combined PNG\\n\"\n",
    "            sys.stderr.write('Error occured while creating combined PNG')\n",
    "            sys.stderr.write(str(e))\n",
    "            #sys.exit(1)"
   ]
  },
  {
   "cell_type": "code",
   "execution_count": null,
   "metadata": {
    "extensions": {
     "jupyter_dashboards": {
      "version": 1,
      "views": {
       "grid_default": {
        "hidden": true
       },
       "report_default": {}
      }
     }
    }
   },
   "outputs": [],
   "source": [
    "def doneFunc(s, rdir):\n",
    "    global submit_str\n",
    "    global how_many_snapshots\n",
    "    #this is a condtional variable for few things\n",
    "    submit_str = ''\n",
    "    \n",
    "    progressBar.value=int(100)\n",
    "    \n",
    "    localOutput.value = localOutput.value + \"Simulation execution finished\\n\" \n",
    "    \n",
    "    submit_btn.but.disabled = True\n",
    "    clustorMode.disabled = False\n",
    "    \n",
    "    localOutput.value = localOutput.value + \"Postprocessing is running...\\n\" \n",
    "    \n",
    "    \n",
    "    '''\n",
    "    localOutput.value = localOutput.value + \"Postprocessing is running...\\n\"\n",
    "    \n",
    "    #postprocessing stage\n",
    "    \n",
    "    postprocessingCMD = \"./postprocessor -n \"+str(nLigand_value)+\" -N 150 > postprocessor.log\"\n",
    "    try:\n",
    "        !$postprocessingCMD\n",
    "        \n",
    "    except  Exception as e:\n",
    "        localOutput.value = localOutput.value + \"Error occured during the execution of postprocessing executable\\n\"\n",
    "        sys.stderr.write('Error occured during the execution of postprocessing executable')\n",
    "        sys.stderr.write(str(e))\n",
    "        sys.exit(1)\n",
    "        \n",
    "    localOutput.value = localOutput.value + \"Postprocessing is finished\\n\"\n",
    "    '''\n",
    "    \n",
    "    #  Plotting the result\n",
    "    plot_data()\n",
    "    energy_plot()\n",
    "    how_many_snapshots=dump_svgs(filepath='outfiles/p.lammpstrj', skip_factor=1, current_step=simulationStepsToatal)\n",
    "    localOutput.value = localOutput.value + \"Number of simulation snapshots generated=\"+str(how_many_snapshots)+\"\\n\"\n",
    "    localOutput.value = localOutput.value + \"Postprocessing is finished\\n\"\n",
    "    \n",
    "    submit_btn.but.disabled = False\n",
    "    playMode.layout.visibility = 'visible'\n",
    "    \n",
    "    #image slider fully ready\n",
    "    imageSlider.max=int(simulationStepsToatal/imageSlider.step)*imageSlider.step\n",
    "    #imageSlider.max=(how_many_snapshots-1)*imageSlider.step\n",
    "    imageSlider.value=int(simulationStepsToatal/imageSlider.step)*imageSlider.step\n",
    "    #imageSlider.value=int(how_many_snapshots)-1\n",
    "     \n",
    "    movie_download.layout = area_download.layout = energy_file_1.layout = final_shape_download.layout = button_show_layout"
   ]
  },
  {
   "cell_type": "code",
   "execution_count": null,
   "metadata": {
    "extensions": {
     "jupyter_dashboards": {
      "version": 1,
      "views": {
       "grid_default": {
        "hidden": true
       },
       "report_default": {
        "hidden": true
       }
      }
     }
    }
   },
   "outputs": [],
   "source": [
    "# after the run finished, optionally do something\n",
    "# with the output\n",
    "#def plot_data(s, rdir):\n",
    "def plot_data():\n",
    "    global build_Plots\n",
    "    if build_Plots:\n",
    "        showPlotUI()\n",
    "        build_Plots = False \n",
    "    \n",
    "    #We ignore rdir because submit puts non-parametric runs in the current directory\n",
    "    # When caching is enabled, they get put in a chached directory and rdit is always used. \n",
    "    #wait for 2 seconds before plotting errorBars.\n",
    "    time.sleep(0.5)  \n",
    "    plt.figure('Area of the nanocontainer')\n",
    "    plt.clf()  # clear old plot\n",
    "    #plt.title('Area profile of the nanoparticles')\n",
    "    plt.xlabel('Simulation Time Steps', fontsize=10)\n",
    "    plt.ylabel('Normalized Area', fontsize=10)\n",
    "    \n",
    "    # our simulation writes to outfiles -> density_profile.dat\n",
    "    try:\n",
    "        areafile = np.loadtxt(working_dir + 'outfiles/area.dat')\n",
    "    except:\n",
    "        sys.stderr.write('Can not find the area.dat file')\n",
    "        sys.exit(1)\n",
    "    #print(density_profile)    \n",
    "    x = areafile[:,0]\n",
    "    \n",
    "    # droping data above 4.3 in x dim.\n",
    "    #x = numpy.select([ x < 4.3 ],x)\n",
    "    initial_area = areafile[0,1]\n",
    "    y = areafile[:x.size,1]/initial_area\n",
    "    #yrr = density_profile[:,2]\n",
    "    #plt.errorbar(x,y,xerr=0.0, yerr=yrr, c='b', ecolor='r', capsize=2)\n",
    "    plt.plot(x,y, color='green')\n",
    "    plt.show()\n",
    "    \n",
    "def energy_plot():\n",
    "    global build_Plots\n",
    "    if build_Plots:\n",
    "        showPlotUI()\n",
    "        build_Plots = False \n",
    "        \n",
    "    time.sleep(0.5)\n",
    "    plt.figure('Electrostatic energy of the nanocontainer')\n",
    "    plt.clf()  # clear old plot\n",
    "    #plt.title(\"Energy profiles for the simulation\")\n",
    "    plt.xlabel('Simulation Time Steps', fontsize=10)\n",
    "    plt.ylabel('Normalized Energy', fontsize=10)\n",
    "    \n",
    "    try:\n",
    "        \n",
    "        energy_profile = np.genfromtxt(working_dir + 'outfiles/energy_nanomembrane.dat')\n",
    "        es_energy_profile = np.genfromtxt(working_dir + 'outfiles/energy_in_parts_kE_bE_sE_tE_ljE_esE.dat')\n",
    "\n",
    "        #removing Nan rows\n",
    "        #energy_profile[~np.isnan(energy_profile).any(axis=1)]\n",
    "        #es_energy_profile[~np.isnan(es_energy_profile).any(axis=1)]\n",
    "\n",
    "        step = energy_profile[:,0]\n",
    "        #total_en = energy_profile[:,4]\n",
    "        initial_energy_ = es_energy_profile[0,6]\n",
    "        electrostatic_en = es_energy_profile[:,6]/initial_energy_\n",
    "        #lj_en = es_energy_profile[:,5]\n",
    "        #potential = energy_profile[:,3]\n",
    "        #kinetic_virtual = energy_profile[:,4]\n",
    "\n",
    "        #plt.plot(step,total_en, color='red', label='Global net energy')\n",
    "        plt.plot(step, electrostatic_en, color='green', label='Electrostatic energy')\n",
    "        #plt.plot(step,lj_en, color='blue', label='Lennard-Jones potential energy')\n",
    "        #plt.plot(step,potential, color='blue', label='Potential')\n",
    "        #plt.plot(step,kinetic_virtual, color='yellow', label='Kinetic (virtual)')\n",
    "        plt.legend()\n",
    "        plt.show()\n",
    "        \n",
    "    except  Exception as e:\n",
    "        sys.stderr.write('Can not find the energy files')\n",
    "        sys.stderr.write(str(e))"
   ]
  },
  {
   "cell_type": "code",
   "execution_count": null,
   "metadata": {
    "extensions": {
     "jupyter_dashboards": {
      "version": 1,
      "views": {
       "grid_default": {
        "hidden": true
       },
       "report_default": {}
      }
     }
    }
   },
   "outputs": [],
   "source": [
    "views = ['Top', 'Front','Left','Perspective']\n",
    "\n",
    "def render_pngs(number_of_steps=0):\n",
    "    \n",
    "    #start = time.time()\n",
    "    try:\n",
    "        index = int(number_of_steps/imageSlider.step)\n",
    "        image_index = str(number_of_steps)\n",
    "        index_str = str(index) if index>999 else ( '0'+str(index) if index>99 else ('00'+str(index) if index >9 else '000'+str(index)))\n",
    "        #print(imageSlider.value)\n",
    "        #localOutput.value = localOutput.value +\"Loop index: \" + str(image_index)+\"\\n\"\n",
    "        \n",
    "        png1='snapshot_png/shape_'+views[0].lower()+'_'+image_index+'.png'\n",
    "        png2='snapshot_png/shape_'+views[1].lower()+'_'+image_index+'.png'\n",
    "        png3='snapshot_png/shape_'+views[2].lower()+'_'+image_index+'.png'\n",
    "        png4='snapshot_png/shape_'+views[3].lower()+'_'+image_index+'.png'\n",
    "        combined_file='snapshot_png/shape_'+image_index+'.png'\n",
    "                \n",
    "        #end = time.time()\n",
    "        #time_taken = end - start\n",
    "        #localOutput.value = localOutput.value +\"loop pre: \" + str(time_taken)+\"\\n\"\n",
    "                \n",
    "        if not os.path.isfile(combined_file):\n",
    "            threads = []\n",
    "            for view in views:\n",
    "                    \n",
    "                svg_file_path = \"simulation_snapshots/image_\"+view.lower()+'_'\n",
    "                png_file_path =\"snapshot_png/shape_\"+view.lower()+'_'\n",
    "                ## Convert final image to PNG\n",
    "                t = Thread(target=convert_SVG_PNG, args=(svg_file_path+index_str+\".svg\",png_file_path+image_index+\".png\"))\n",
    "                threads.append(t)\n",
    "                t.start()\n",
    "                #convert_SVG_PNG(svg_file_path+index_str+\".svg\",png_file_path+image_index+\".png\")\n",
    "           \n",
    "    \n",
    "            # Wait for all of them to finish\n",
    "            for x in threads:\n",
    "                x.join()\n",
    "            \n",
    "            combine_4_PNGs(png1, png2, png3, png4, combined_file)\n",
    "\n",
    "            if number_of_steps == simulationStepsToatal:\n",
    "                combined_file='snapshot_png/shape_final.png'\n",
    "                combine_4_PNGs(png1, png2, png3, png4, combined_file)\n",
    "                        \n",
    "            \n",
    "    except  Exception as e:\n",
    "        sys.stderr.write('There was a error in PNG conversion')\n",
    "        sys.stderr.write(str(e))\n",
    "        return 0\n",
    "\n",
    "def dump_svgs(filepath='outfiles/p.lammpstrj', skip_factor=1, current_step=0):\n",
    "    \n",
    "    try:\n",
    "        '''\n",
    "        shutil.rmtree('simulation_snapshots',True)\n",
    "        if not os.path.exists('simulation_snapshots'):\n",
    "            os.makedirs('simulation_snapshots')\n",
    "        \n",
    "                \n",
    "        shutil.rmtree('snapshot_png',True)\n",
    "        if not os.path.exists('snapshot_png'):\n",
    "            os.makedirs('snapshot_png')\n",
    "        '''\n",
    "        \n",
    "        data = dump(filepath)\n",
    "        data.map(1,\"id\")\n",
    "        data.tselect.skip(skip_factor)\n",
    "        t = data.time()\n",
    "        if len(t)>1:\n",
    "        \n",
    "            for view in views:\n",
    "\n",
    "                theta_ =60\n",
    "                phi_ = -120\n",
    "                svg_file_path = \"simulation_snapshots/image_\"+view.lower()+'_'\n",
    "\n",
    "                if view is 'Top':\n",
    "                    theta_ =0\n",
    "                    phi_ = -90\n",
    "                elif view is 'Front':\n",
    "                    theta_ =90\n",
    "                    phi_ = -90\n",
    "                elif view is 'Left':\n",
    "                    theta_ =90\n",
    "                    phi_ = 180 \n",
    "                elif view is 'Perspective':\n",
    "                    theta_ =60\n",
    "                    phi_ = -120\n",
    "\n",
    "            \n",
    "                #print(t)\n",
    "                #if len(t)>500:\n",
    "                #    skip_factor = 10\n",
    "                #    data.tselect.skip(skip_factor)\n",
    "                #t = data.time()\n",
    "\n",
    "                s = svg(data)\n",
    "                s.bg(\"white\")               #set background color (def = \"black\")\n",
    "                s.size(image_width//2)               #set image size to NxN\n",
    "                #s.size(N,M)               #set image size to NxM\n",
    "                #s.rotate(60,135)               #view from z theta and azimuthal phi (def = 60,30)\n",
    "                ##### Simular to Ovito UI: Top s.rotate(0,-90), Front s.rotate(90,-90), Left s.rotate(90,180), Perspective s.rotate(60, -120) \n",
    "                s.rotate(theta_, phi_) \n",
    "                s.shift(0, 0)               #translate by x,y pixels in view window (def = 0,0)\n",
    "                s.zoom(0.8)               #scale image by factor (def = 1)\n",
    "                s.box(0)               #0/1/2 = none/variable/fixed box\n",
    "                #s.box(0/1/2,\"green\")               #set box color\n",
    "                #s.box(0/1/2,\"red\",4)               #set box edge thickness\n",
    "                s.acol(1,\"green\")\n",
    "                s.arad(1,0.12)\n",
    "                s.acol(-1,\"orange\")\n",
    "                s.arad(-1,0.12)\n",
    "                s.file = svg_file_path              #file prefix for created images (def = \"image\")\n",
    "                s.all()\n",
    "                #file_content = s.show(time_index)               #show image of snapshot at timestep N\n",
    "                #return file_content\n",
    "                #return SVG(file_content)\n",
    "                #return display(SVG(file_content))\n",
    "            \n",
    "            # Saving as PNGS \n",
    "            for number_of_steps in range(0,current_step+1,imageSlider.step):\n",
    "                render_pngs(number_of_steps)    \n",
    "            \n",
    "            imageSlider.max=int(current_step)\n",
    "            imageSlider.value=int(current_step)   \n",
    "            return len(t)   # how many images are generated\n",
    "        else:\n",
    "            pass\n",
    "\n",
    "    except  Exception as e:\n",
    "        sys.stderr.write('Can not find the movie file(p.lammpstrj)')\n",
    "        sys.stderr.write(str(e))\n",
    "        return 0"
   ]
  },
  {
   "cell_type": "code",
   "execution_count": null,
   "metadata": {
    "extensions": {
     "jupyter_dashboards": {
      "version": 1,
      "views": {
       "grid_default": {
        "hidden": true
       },
       "report_default": {}
      }
     }
    }
   },
   "outputs": [],
   "source": [
    "in_wrapper_progress = False\n",
    "saved_data = \"\"\n",
    "saved_data_enery = \"\"\n",
    "saved_data_ions_pos = \"\"\n",
    "stepNumber = 0\n",
    "previous_steps = 0\n",
    "\n",
    "def stdoutput_handler(buffer):\n",
    "    global in_wrapper_progress, saved_data, parameter_append, sim_bigin, stepNumber, saved_data_enery, saved_data_ions_pos, simulationStepsToatal\n",
    "    global previous_steps\n",
    "    output = []\n",
    "\n",
    "    #return buffer\n",
    "\n",
    "    if sim_bigin:\n",
    "        #output.append(parameter_append)\n",
    "        sim_bigin = False\n",
    "   \n",
    "    data = buffer.split('\\n')\n",
    "    \n",
    "    last = len(data) - 1\n",
    "    \n",
    "    for i, line in enumerate(data):\n",
    "        \n",
    "        number = line.split('%')\n",
    "        if number:\n",
    "            if number[0].strip().isdigit():\n",
    "                #print(number[0].strip())\n",
    "                percent = float(number[0].strip())     #/simulationStepsToatal*100\n",
    "                progressBar.value=int(percent)\n",
    "                # This adjust the image slider dynamically\n",
    "                # dynamic update only happens for local VM run\n",
    "                if submit_str.startswith('--local '):\n",
    "                    number_of_steps =int(int(percent)*simulationStepsToatal/100)\n",
    "                    \n",
    "                    # This take care of: if we miss exact % ==0 step from std buffer\n",
    "                    if (previous_steps+imageSlider.step) < number_of_steps:\n",
    "                        number_of_steps = int(number_of_steps/imageSlider.step)*imageSlider.step\n",
    "                    \n",
    "                    if(number_of_steps%imageSlider.step == 0) and number_of_steps!=previous_steps and number_of_steps!=0:\n",
    "                        previous_steps=number_of_steps\n",
    "                        #localOutput.value = localOutput.value + str(number_of_steps)+\"\\n\"\n",
    "                        #print(number_of_steps)\n",
    "                        Thread(target=dump_svgs, args=('outfiles/p.lammpstrj', 1, number_of_steps)).start()\n",
    "                        # refreash area and energy plots\n",
    "                        dynamic_refresh()\n",
    "            else:\n",
    "                if '%' not in line and '|' not in line:\n",
    "                    output.append(line)\n",
    "      \n",
    "    reduced_buffer = '\\n'.join(output)\n",
    "    \n",
    "    #appending new line at the end\n",
    "    if reduced_buffer:\n",
    "        if reduced_buffer[-1] != '\\n':\n",
    "            reduced_buffer = reduced_buffer + '\\n'\n",
    "    \n",
    "    return reduced_buffer"
   ]
  },
  {
   "cell_type": "code",
   "execution_count": null,
   "metadata": {
    "extensions": {
     "jupyter_dashboards": {
      "version": 1,
      "views": {
       "grid_default": {
        "hidden": true
       },
       "report_default": {}
      }
     }
    }
   },
   "outputs": [],
   "source": [
    "#button_style = \"style='background-color: #81c4fd; font-size:500; padding: 4px; -webkit-appearance: button; -moz-appearance: button; appearance: button; text-decoration: none; color: initial;'\"\n",
    "\n",
    "def make_downloadBtn(downFilename=\"\", downloadURL=\"\", displayText=\"\"):\n",
    "    bval = \"<a href='%s' target='_blank' download='%s'><button class='p-Widget jupyter-widgets jupyter-button widget-button mod-info'>%s</button></a>\" % (downloadURL, downFilename, displayText)\n",
    "    return widgets.HTML(bval)\n",
    "\n",
    "def make_downloadBtn_images(downloadURL=\"\", displayText=\"\"):\n",
    "    bval = \"<a href='%s' target='_blank'><button class='p-Widget jupyter-widgets jupyter-button widget-button mod-info'>%s</button></a>\" % (downloadURL, displayText)\n",
    "    return widgets.HTML(bval)\n",
    "\n",
    "#from IPython.display import FileLink, FileLinks\n",
    "#FileLinks('outfiles')\n",
    "#FileLinks('data')\n",
    "#download='%s'"
   ]
  },
  {
   "cell_type": "code",
   "execution_count": null,
   "metadata": {
    "extensions": {
     "jupyter_dashboards": {
      "version": 1,
      "views": {
       "grid_default": {
        "col": 0,
        "height": 59,
        "hidden": true,
        "row": 105,
        "width": 12
       },
       "report_default": {
        "hidden": false
       }
      }
     }
    },
    "scrolled": false
   },
   "outputs": [],
   "source": [
    "%%capture\n",
    "\n",
    "tab_layout=Layout(\n",
    "    width='100%',\n",
    "    height='600px',\n",
    "    justify_content='space-between',\n",
    ")\n",
    "\n",
    "# we want the plot to go here, so create an empty one initially\n",
    "#create tabs\n",
    "figsize_tup=(8.50, 5.0)\n",
    "plt.ioff() #LINE ADDED, Interactive plot blur fix\n",
    "figure_area_time = plt.figure(num='Area of the nanocontainer', figsize=figsize_tup)\n",
    "out_area_time = Output(layout=tab_layout)\n",
    "\n",
    "figure_energy = plt.figure(num='Electrostatic energy of the nanocontainer', figsize=figsize_tup)\n",
    "out_energy = Output(layout=tab_layout)\n",
    "\n",
    "plt.ion() #LINE ADDED\n",
    "\n",
    "'''\n",
    "#file = open(\"../images/image.emptybox.jpg\", \"rb\")\n",
    "file = open(\"simulation_snapshots/image0000.svg\", \"rb\")\n",
    "imageEmptyBox = file.read()\n",
    "output_image=widgets.Image(\n",
    "    format='svg',\n",
    "    width=584,\n",
    "    height=584,\n",
    "    value=imageEmptyBox.decode('utf-8')\n",
    ")\n",
    "#out_output_image = Output(layout=tab_layout)\n",
    "'''\n",
    "\n",
    "#output_image = Output(layout=tab_layout)\n",
    "file = open(\"../images/shape_0.png\", \"rb\")\n",
    "first_frame = file.read()\n",
    "\n",
    "output_image=widgets.Image(\n",
    "    format='png',\n",
    "    width=image_width,\n",
    "    #height=584,\n",
    "    value=first_frame\n",
    ")\n",
    "#out_output_image = Output(layout=tab_layout)\n",
    "\n",
    "output_image_layout=Layout(\n",
    "    display='flex',\n",
    "    flex_flow='row',\n",
    "    #border='solid 2px',\n",
    "    align_items='stretch',\n",
    "    margin = '0px 0px 0px 80px' #top, right, bottom and left\n",
    ")\n",
    "\n",
    "box_layout_warning_text=Layout(\n",
    "    display='flex',\n",
    "    flex_flow='column',\n",
    "    #border='solid 1px',\n",
    "    align_items='stretch',\n",
    "    padding='5px',\n",
    "    width='150px',\n",
    "    visibility = 'hidden',\n",
    "    height='95%'\n",
    ")\n",
    "box_layout_playbtn=Layout(\n",
    "    display='flex-end',\n",
    "    flex_flow='row',\n",
    "    #border='solid 1px',\n",
    "    align_items='stretch',\n",
    "    padding='5px',\n",
    "    width='150px',\n",
    "    visibility = 'hidden',\n",
    "    #height='136px'\n",
    ")\n",
    "\n",
    "#label_style3 = \"style='background-color: #eeeeee; color: #388e3c; font-size:350; padding: 2px; font-weight: bold; align: center'\"\n",
    "label_style3 = \"style='background-color: #eeeeee; font-size:350; padding: 2px; font-weight: bold; align: center'\"\n",
    "output_image_warning_text = make_label('Cluster mode is on! You will lose access to the dynamic simulation snapshot data. Snapshot data will be available at the end of simulation.', label_style3, '')\n",
    "\n",
    "box_layout_for_right = Layout(\n",
    "    display='flex',\n",
    "    flex_flow='column',\n",
    "    align_items='stretch',\n",
    "    #border='solid',\n",
    "    height='100%',\n",
    "    #width='150px',\n",
    "    #width='50%'\n",
    ")\n",
    "\n",
    "form_output_image_sec_right_items = [\n",
    "    Box([output_image_warning_text], layout=box_layout_warning_text),\n",
    "    Box([playMode], layout=box_layout_playbtn),\n",
    "\n",
    "]\n",
    "\n",
    "form_output_image_sec_right = Box(form_output_image_sec_right_items, layout=box_layout_for_right)\n",
    "\n",
    "output_image_box =  Box([output_image], layout=output_image_layout)\n",
    "\n",
    "form_output_image_sec = [\n",
    "    Box([output_image_box], layout=output_image_layout),\n",
    "    Box([form_output_image_sec_right], layout=box_layout_for_right),\n",
    "\n",
    "]\n",
    "\n",
    "output_image_section = Box(form_output_image_sec, layout=tab_layout)\n",
    "\n",
    "#data download tab\n",
    "final_shape_download = make_downloadBtn_images(downloadURL=\"snapshot_png/shape_final.png\", displayText=\"Final Shape\")\n",
    "movie_download = make_downloadBtn(downFilename=\"movie.xyz\", downloadURL=\"outfiles/p.lammpstrj\", displayText=\"Movie\")\n",
    "area_download = make_downloadBtn(downFilename=\"area.dat\", downloadURL=\"outfiles/area.dat\", displayText=\"Area\")\n",
    "energy_file_1 = make_downloadBtn(downFilename=\"energy.dat\", downloadURL=\"outfiles/energy_nanomembrane.dat\", displayText=\"Energy\")\n",
    "\n",
    "movie_download.layout = area_download.layout = energy_file_1.layout = final_shape_download.layout = button_hide_layout\n",
    "\n",
    "box_layout_outputs=Layout(\n",
    "    display='flex',\n",
    "    flex_flow='column',\n",
    "    align_items='stretch',\n",
    "    padding='5px'\n",
    ")\n",
    "form_output_content = [\n",
    "    Box([final_shape_download], layout=box_layout_outputs),\n",
    "    Box([movie_download], layout=box_layout_outputs),\n",
    "    Box([area_download], layout=box_layout_outputs),\n",
    "    Box([energy_file_1], layout=box_layout_outputs)\n",
    "    \n",
    "]\n",
    "downloadMovieSec = Box(form_output_content, layout=tab_layout)\n",
    "\n"
   ]
  },
  {
   "cell_type": "code",
   "execution_count": null,
   "metadata": {
    "extensions": {
     "jupyter_dashboards": {
      "version": 1,
      "views": {
       "grid_default": {
        "hidden": true
       },
       "report_default": {}
      }
     }
    }
   },
   "outputs": [],
   "source": [
    "#tabChange detection and plot data incase automatically not drawn\n",
    "def dynamic_refresh():\n",
    "    if os.path.isfile('outfiles/area.dat'):\n",
    "        plot_data()\n",
    "    if os.path.isfile('outfiles/energy_nanomembrane.dat') and os.path.isfile('outfiles/energy_in_parts_kE_bE_sE_tE_ljE_esE.dat'):\n",
    "        energy_plot() \n",
    "\n",
    "def onTabChange(b):\n",
    "    global build_Plots\n",
    "    if not build_Plots:\n",
    "        dynamic_refresh()\n",
    "        "
   ]
  },
  {
   "cell_type": "code",
   "execution_count": null,
   "metadata": {
    "extensions": {
     "jupyter_dashboards": {
      "version": 1,
      "views": {
       "grid_default": {
        "col": 4,
        "height": 27,
        "hidden": true,
        "row": 49,
        "width": 8
       },
       "report_default": {}
      }
     }
    },
    "scrolled": false
   },
   "outputs": [],
   "source": [
    "tab_contents = ['Area vs. time', 'Energy Minimization', 'Simulation Snapshot', 'Downloads']\n",
    "children = [out_area_time, out_energy, output_image_section, downloadMovieSec]\n",
    "tabSpace = widgets.Tab()\n",
    "tabSpace.children = children\n",
    "\n",
    "for i in range(len(children)):\n",
    "    tabSpace.set_title(i, str(tab_contents[i]))\n",
    "tabSpace.selected_index = 2\n",
    "\n",
    "tabSpace.observe(onTabChange, names='selected_index')\n",
    "\n",
    "form_about = [\n",
    "    Box([tabSpace], layout=form_item_layout_tab)\n",
    "]\n",
    "\n",
    "tab = Box(form_about, layout=box_layout_tabs)"
   ]
  },
  {
   "cell_type": "code",
   "execution_count": null,
   "metadata": {
    "extensions": {
     "jupyter_dashboards": {
      "version": 1,
      "views": {
       "grid_default": {
        "hidden": true
       },
       "report_default": {}
      }
     }
    }
   },
   "outputs": [],
   "source": [
    "def showPlotUI():\n",
    "    with out_area_time:\n",
    "        display(figure_area_time, layout=tab_layout)\n",
    "    with out_energy:\n",
    "        display(figure_energy, layout=tab_layout)"
   ]
  },
  {
   "cell_type": "code",
   "execution_count": null,
   "metadata": {
    "extensions": {
     "jupyter_dashboards": {
      "version": 1,
      "views": {
       "grid_default": {
        "col": null,
        "height": 37,
        "hidden": true,
        "row": 105,
        "width": null
       },
       "report_default": {
        "hidden": false
       }
      }
     }
    }
   },
   "outputs": [],
   "source": [
    "form_item_layout_output = Layout(\n",
    "    display='flex',\n",
    "    flex_flow='column',\n",
    "    justify_content='space-between',\n",
    "    padding='4px'\n",
    ")\n",
    "\n",
    "form_item_layout_run_btn = Layout(\n",
    "    display='flex',\n",
    "    flex_flow='column',\n",
    "    justify_content='space-between',\n",
    "    padding='4px'\n",
    ")\n",
    "\n",
    "#Submit(start_func=callExe, done_func=plot_data, cachename='SubmitTest1')\n",
    "submit_btn=Submit(start_func=callExe, done_func=doneFunc, outcb=stdoutput_handler)\n",
    "\n",
    "submit_btn.acc.set_title(0, \"Executable Output\")\n",
    "submit_btn.w.layout = form_item_layout_run_btn\n",
    "#submit_btn.acc.layout = form_item_layout_output\n",
    "localOutput = widgets.Textarea(layout={'width': '100%', 'height': '250px'})\n",
    "localOutputWidget = widgets.Accordion(children=[localOutput],layout=form_item_layout_output)\n",
    "localOutputWidget.set_title(0, \"Output\")\n",
    "localOutputWidget.selected_index = None\n",
    "localOutput.value = \"\"\n"
   ]
  },
  {
   "cell_type": "code",
   "execution_count": null,
   "metadata": {
    "extensions": {
     "jupyter_dashboards": {
      "version": 1,
      "views": {
       "grid_default": {
        "col": 0,
        "height": 2,
        "hidden": true,
        "row": 70,
        "width": 4
       },
       "report_default": {}
      }
     }
    }
   },
   "outputs": [],
   "source": [
    "progressBar=widgets.IntProgress(\n",
    "    value=0,\n",
    "    min=0,\n",
    "    max=100,\n",
    "    step=1,\n",
    "    description='Progress:',\n",
    "    bar_style='info', # 'success', 'info', 'warning', 'danger' or ''\n",
    "    orientation='horizontal',\n",
    "    layout={'width': '100%'},\n",
    "    style=style\n",
    ")\n",
    "\n",
    "form_items_progress = [\n",
    "    Box([progressBar], layout=form_item_layout)\n",
    "]\n",
    "\n",
    "progressBar_Ele = Box(form_items_progress, layout=box_layout_progress)"
   ]
  },
  {
   "cell_type": "code",
   "execution_count": null,
   "metadata": {
    "extensions": {
     "jupyter_dashboards": {
      "version": 1,
      "views": {
       "grid_default": {
        "col": 0,
        "height": 29,
        "hidden": true,
        "row": 76,
        "width": 12
       },
       "report_default": {}
      }
     }
    },
    "scrolled": false
   },
   "outputs": [],
   "source": [
    "app_height='965px'\n",
    "\n",
    "form_item_layout = Layout(\n",
    "    display='flex',\n",
    "    flex_flow='row',\n",
    "    justify_content='space-between',\n",
    "    padding='5px'\n",
    ")\n",
    "\n",
    "box_layout_column_left=Layout(\n",
    "    display='flex',\n",
    "    flex_flow='column',\n",
    "    #border='solid 2px',\n",
    "    align_items='stretch',\n",
    "    width=left_column,\n",
    "    height=app_height\n",
    "    #height='840px'\n",
    ")\n",
    "box_layout_column_right=Layout(\n",
    "    display='flex',\n",
    "    flex_flow='column',\n",
    "    #border='solid 2px',\n",
    "    align_items='stretch',\n",
    "    width=right_column,\n",
    "    height=app_height\n",
    "    #height='840px'\n",
    ")\n",
    "\n",
    "box_layout=Layout(\n",
    "    display='flex',\n",
    "    flex_flow='row',\n",
    "    #border='solid 2px',\n",
    "    align_items='stretch',\n",
    "    width=app_width,\n",
    "    #padding='5px',\n",
    "    height=app_height\n",
    ")\n",
    "\n",
    "box_layout_rows=Layout(\n",
    "    display='flex',\n",
    "    flex_flow='column',\n",
    "    #border='solid 2px',\n",
    "    align_items='stretch',\n",
    "    width=app_width,\n",
    "    #padding='5px',\n",
    "    height='2200px',\n",
    "    #overflow_x='scroll',\n",
    "    #overflow_y='scroll'\n",
    ")\n",
    "\n",
    "\n",
    "gui_left = [\n",
    "    Box([mainImage], layout=form_item_layout),\n",
    "    Box([physical_para], layout=form_item_layout),\n",
    "    Box([computing_para], layout=form_item_layout),\n",
    "    Box([progressBar_Ele], layout=form_item_layout),\n",
    "    Box([output_para], layout=form_item_layout)\n",
    "]\n",
    "\n",
    "gui_right = [\n",
    "    Box([about_text], layout=form_item_layout),\n",
    "    Box([tab], layout=form_item_layout)\n",
    "]\n",
    "\n",
    "form_left = Box(gui_left, layout=box_layout_column_left)\n",
    "form_right = Box(gui_right, layout=box_layout_column_right)\n",
    "\n",
    "gui_upper = [\n",
    "    Box([form_left], layout=box_layout_column_left),\n",
    "    Box([form_right], layout=box_layout_column_right)\n",
    "]\n",
    "\n",
    "form = Box(gui_upper, layout=box_layout)\n",
    "\n",
    "gui = widgets.VBox([form, localOutputWidget, submit_btn.w],layout=box_layout_rows)\n"
   ]
  },
  {
   "cell_type": "code",
   "execution_count": null,
   "metadata": {
    "extensions": {
     "jupyter_dashboards": {
      "version": 1,
      "views": {
       "grid_default": {
        "col": 0,
        "height": 78,
        "hidden": false,
        "row": 0,
        "width": 12
       },
       "report_default": {}
      }
     }
    },
    "scrolled": false
   },
   "outputs": [],
   "source": [
    "gui"
   ]
  }
 ],
 "metadata": {
  "extensions": {
   "jupyter_dashboards": {
    "activeView": "grid_default",
    "version": 1,
    "views": {
     "grid_default": {
      "cellMargin": 10,
      "defaultCellHeight": 20,
      "maxColumns": 12,
      "name": "grid",
      "type": "grid"
     },
     "report_default": {
      "name": "report",
      "type": "report"
     }
    }
   }
  },
  "kernelspec": {
   "display_name": "Python 3",
   "language": "python",
   "name": "python3"
  },
  "language_info": {
   "codemirror_mode": {
    "name": "ipython",
    "version": 3
   },
   "file_extension": ".py",
   "mimetype": "text/x-python",
   "name": "python",
   "nbconvert_exporter": "python",
   "pygments_lexer": "ipython3",
   "version": "3.8.5"
  },
  "tool": false,
  "widgets": {
   "application/vnd.jupyter.widget-state+json": {
    "state": {
     "0928bdb3f16145de8f3bdc629c434672": {
      "model_module": "@jupyter-widgets/base",
      "model_module_version": "1.0.0",
      "model_name": "LayoutModel",
      "state": {}
     },
     "113232b6f0b0489c857571e43b2fc7c0": {
      "model_module": "@jupyter-widgets/controls",
      "model_module_version": "1.0.0",
      "model_name": "HTMLModel",
      "state": {
       "layout": "IPY_MODEL_33445fc625f34d0bbeeddd4c97736d58",
       "style": "IPY_MODEL_6d300a697da3458c80bec3d9f5dd9aee",
       "value": "<img src=\"imageV5.jpg\" style=\"width: 300px\"/>"
      }
     },
     "17e316ab391d438ea2d65e76f4767f5e": {
      "model_module": "@jupyter-widgets/base",
      "model_module_version": "1.0.0",
      "model_name": "LayoutModel",
      "state": {}
     },
     "1b37f86d44a84a748bf0f856f082f995": {
      "model_module": "@jupyter-widgets/controls",
      "model_module_version": "1.0.0",
      "model_name": "DropdownModel",
      "state": {
       "_options_labels": [
        "1(monovalent)",
        "2(divalent)",
        "3(trivalent)"
       ],
       "description": "Positive Ion Valency (z)",
       "index": 2,
       "layout": "IPY_MODEL_0928bdb3f16145de8f3bdc629c434672",
       "style": "IPY_MODEL_42bfc62f7b0a40b28042c92ea51358b6"
      }
     },
     "1c1ce5a816634e95ba4fd9c260a0e035": {
      "model_module": "@jupyter-widgets/controls",
      "model_module_version": "1.0.0",
      "model_name": "BoundedFloatTextModel",
      "state": {
       "description": "Ion Diameter (nm):",
       "layout": "IPY_MODEL_b75073530edf4a96b67df16319442848",
       "max": 0.8,
       "min": 0.5,
       "step": 0.001,
       "style": "IPY_MODEL_cba8a7396c344ef49134b9b3b3577ef5",
       "value": 0.714
      }
     },
     "24a70f35d36b4d4eb6b8faef61e818e1": {
      "model_module": "@jupyter-widgets/controls",
      "model_module_version": "1.0.0",
      "model_name": "BoundedFloatTextModel",
      "state": {
       "description": "Salt Concentration (c in M):",
       "layout": "IPY_MODEL_2fedeb6b81c543169901f6f01ed839cd",
       "max": 0.9,
       "min": 0.3,
       "style": "IPY_MODEL_45d6aa209f234a8a9a5d856d1b8c4894",
       "value": 0.7
      }
     },
     "2fedeb6b81c543169901f6f01ed839cd": {
      "model_module": "@jupyter-widgets/base",
      "model_module_version": "1.0.0",
      "model_name": "LayoutModel",
      "state": {}
     },
     "33445fc625f34d0bbeeddd4c97736d58": {
      "model_module": "@jupyter-widgets/base",
      "model_module_version": "1.0.0",
      "model_name": "LayoutModel",
      "state": {}
     },
     "36d5fefc93e84ab081d80ce41001de6f": {
      "model_module": "@jupyter-widgets/controls",
      "model_module_version": "1.0.0",
      "model_name": "ButtonModel",
      "state": {
       "description": "Simulate",
       "layout": "IPY_MODEL_f4cbb854239940da8e36bc8f9611fd13",
       "style": "IPY_MODEL_90d2800131be4e46b2b415fae5cc3976"
      }
     },
     "421f485f7df44b158c5ebc2cead2e4fc": {
      "model_module": "@jupyter-widgets/base",
      "model_module_version": "1.0.0",
      "model_name": "LayoutModel",
      "state": {}
     },
     "42bfc62f7b0a40b28042c92ea51358b6": {
      "model_module": "@jupyter-widgets/controls",
      "model_module_version": "1.0.0",
      "model_name": "DescriptionStyleModel",
      "state": {
       "description_width": "initial"
      }
     },
     "45d6aa209f234a8a9a5d856d1b8c4894": {
      "model_module": "@jupyter-widgets/controls",
      "model_module_version": "1.0.0",
      "model_name": "DescriptionStyleModel",
      "state": {
       "description_width": "initial"
      }
     },
     "45d97dd36250486787312d12a1a0eaf2": {
      "model_module": "@jupyter-widgets/controls",
      "model_module_version": "1.0.0",
      "model_name": "BoundedIntTextModel",
      "state": {
       "description": "Simulation Steps:",
       "layout": "IPY_MODEL_bf0216a2f8b24c489de53ab167969b49",
       "max": 5000000,
       "min": 20000,
       "step": 10000,
       "style": "IPY_MODEL_e4131453ffbf4876acdf9652cdb5b893",
       "value": 20000
      }
     },
     "520b6eb96ab54cd9a7c50b7bd2960207": {
      "model_module": "@jupyter-widgets/controls",
      "model_module_version": "1.0.0",
      "model_name": "DescriptionStyleModel",
      "state": {
       "description_width": "initial"
      }
     },
     "5b8456ddd09d48d8b782d04c0f5a8666": {
      "model_module": "@jupyter-widgets/controls",
      "model_module_version": "1.0.0",
      "model_name": "DescriptionStyleModel",
      "state": {
       "description_width": "initial"
      }
     },
     "6b49ad221a4f4738b7967d0195642151": {
      "model_module": "@jupyter-widgets/controls",
      "model_module_version": "1.0.0",
      "model_name": "BoundedFloatTextModel",
      "state": {
       "description": "Confinement Length (nm):",
       "layout": "IPY_MODEL_17e316ab391d438ea2d65e76f4767f5e",
       "max": 4,
       "min": 2,
       "style": "IPY_MODEL_747d7d8031df4ff984c508e9da864b35",
       "value": 3
      }
     },
     "6d300a697da3458c80bec3d9f5dd9aee": {
      "model_module": "@jupyter-widgets/controls",
      "model_module_version": "1.0.0",
      "model_name": "DescriptionStyleModel",
      "state": {
       "description_width": ""
      }
     },
     "73d6a9e62f6d40938e21e2c7fd5daf6a": {
      "model_module": "@jupyter-widgets/base",
      "model_module_version": "1.0.0",
      "model_name": "LayoutModel",
      "state": {}
     },
     "747d7d8031df4ff984c508e9da864b35": {
      "model_module": "@jupyter-widgets/controls",
      "model_module_version": "1.0.0",
      "model_name": "DescriptionStyleModel",
      "state": {
       "description_width": "initial"
      }
     },
     "75176e8e3f694980b4e2156ab5fdba16": {
      "model_module": "@jupyter-widgets/base",
      "model_module_version": "1.0.0",
      "model_name": "LayoutModel",
      "state": {}
     },
     "76459a9affde44d0a9daa29363008e4a": {
      "model_module": "@jupyter-widgets/controls",
      "model_module_version": "1.0.0",
      "model_name": "VBoxModel",
      "state": {
       "children": [
        "IPY_MODEL_fa7df53473e2422e9184a389817fa28a",
        "IPY_MODEL_24a70f35d36b4d4eb6b8faef61e818e1",
        "IPY_MODEL_1b37f86d44a84a748bf0f856f082f995",
        "IPY_MODEL_aaaf4ee3198948a28c188b9237d15a9f",
        "IPY_MODEL_6b49ad221a4f4738b7967d0195642151",
        "IPY_MODEL_1c1ce5a816634e95ba4fd9c260a0e035",
        "IPY_MODEL_8d645f6477254c368de96a816ed5e9f1",
        "IPY_MODEL_45d97dd36250486787312d12a1a0eaf2",
        "IPY_MODEL_113232b6f0b0489c857571e43b2fc7c0",
        "IPY_MODEL_36d5fefc93e84ab081d80ce41001de6f"
       ],
       "layout": "IPY_MODEL_dcca354f544646418d0eeb48fd1b5a9e"
      }
     },
     "8d645f6477254c368de96a816ed5e9f1": {
      "model_module": "@jupyter-widgets/controls",
      "model_module_version": "1.0.0",
      "model_name": "HTMLModel",
      "state": {
       "layout": "IPY_MODEL_421f485f7df44b158c5ebc2cead2e4fc",
       "style": "IPY_MODEL_de576513a12147e8bc083aeec4971950",
       "value": "<p   style='background-color: #DCDCDC; font-size:200; padding: 5px'>Computing</p>"
      }
     },
     "90d2800131be4e46b2b415fae5cc3976": {
      "model_module": "@jupyter-widgets/controls",
      "model_module_version": "1.0.0",
      "model_name": "ButtonStyleModel",
      "state": {}
     },
     "aaaf4ee3198948a28c188b9237d15a9f": {
      "model_module": "@jupyter-widgets/controls",
      "model_module_version": "1.0.0",
      "model_name": "DropdownModel",
      "state": {
       "_options_labels": [
        "-1",
        "-2",
        "-3"
       ],
       "description": "Negative Ion Valency",
       "index": 0,
       "layout": "IPY_MODEL_75176e8e3f694980b4e2156ab5fdba16",
       "style": "IPY_MODEL_520b6eb96ab54cd9a7c50b7bd2960207"
      }
     },
     "b75073530edf4a96b67df16319442848": {
      "model_module": "@jupyter-widgets/base",
      "model_module_version": "1.0.0",
      "model_name": "LayoutModel",
      "state": {}
     },
     "b9eaabc9eb4144fc82a2c63b9ef58541": {
      "model_module": "@jupyter-widgets/controls",
      "model_module_version": "1.0.0",
      "model_name": "DropdownModel",
      "state": {
       "_options_labels": [
        "1(monovalent)",
        "2(divalent)",
        "3(trivalent)"
       ],
       "description": "Positive Ion Valency (z)",
       "index": 0,
       "layout": "IPY_MODEL_c9aa90d11bec44f4aa17ca4467b7ff64",
       "style": "IPY_MODEL_5b8456ddd09d48d8b782d04c0f5a8666"
      }
     },
     "bf0216a2f8b24c489de53ab167969b49": {
      "model_module": "@jupyter-widgets/base",
      "model_module_version": "1.0.0",
      "model_name": "LayoutModel",
      "state": {}
     },
     "c9aa90d11bec44f4aa17ca4467b7ff64": {
      "model_module": "@jupyter-widgets/base",
      "model_module_version": "1.0.0",
      "model_name": "LayoutModel",
      "state": {}
     },
     "cba8a7396c344ef49134b9b3b3577ef5": {
      "model_module": "@jupyter-widgets/controls",
      "model_module_version": "1.0.0",
      "model_name": "DescriptionStyleModel",
      "state": {
       "description_width": "initial"
      }
     },
     "dcca354f544646418d0eeb48fd1b5a9e": {
      "model_module": "@jupyter-widgets/base",
      "model_module_version": "1.0.0",
      "model_name": "LayoutModel",
      "state": {}
     },
     "de576513a12147e8bc083aeec4971950": {
      "model_module": "@jupyter-widgets/controls",
      "model_module_version": "1.0.0",
      "model_name": "DescriptionStyleModel",
      "state": {
       "description_width": ""
      }
     },
     "e4131453ffbf4876acdf9652cdb5b893": {
      "model_module": "@jupyter-widgets/controls",
      "model_module_version": "1.0.0",
      "model_name": "DescriptionStyleModel",
      "state": {
       "description_width": "initial"
      }
     },
     "eba521d82a8f43bd996a3598254ea209": {
      "model_module": "@jupyter-widgets/controls",
      "model_module_version": "1.0.0",
      "model_name": "DescriptionStyleModel",
      "state": {
       "description_width": ""
      }
     },
     "f4cbb854239940da8e36bc8f9611fd13": {
      "model_module": "@jupyter-widgets/base",
      "model_module_version": "1.0.0",
      "model_name": "LayoutModel",
      "state": {}
     },
     "fa7df53473e2422e9184a389817fa28a": {
      "model_module": "@jupyter-widgets/controls",
      "model_module_version": "1.0.0",
      "model_name": "HTMLModel",
      "state": {
       "layout": "IPY_MODEL_73d6a9e62f6d40938e21e2c7fd5daf6a",
       "style": "IPY_MODEL_eba521d82a8f43bd996a3598254ea209",
       "value": "<p   style='background-color: #DCDCDC; font-size:200; padding: 5px'>Physical</p>"
      }
     }
    },
    "version_major": 2,
    "version_minor": 0
   }
  }
 },
 "nbformat": 4,
 "nbformat_minor": 2
}
